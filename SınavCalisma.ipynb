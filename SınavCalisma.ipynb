{
 "cells": [
  {
   "cell_type": "code",
   "execution_count": 3,
   "id": "b0f9ec7c-072d-4c8f-aa62-e4e4727e991b",
   "metadata": {},
   "outputs": [
    {
     "name": "stdin",
     "output_type": "stream",
     "text": [
      "Birinci sayıyı girin:  10\n",
      "ikinci sayıyı girin:  esra\n"
     ]
    },
    {
     "name": "stdout",
     "output_type": "stream",
     "text": [
      "Lütfen iki sayının da tamsayı olduğundan emin olun\n"
     ]
    }
   ],
   "source": [
    "# Kullanıcıdan iki adet tamsayı alan ve bu iki sayıyla\n",
    "# 4 temel işlemi yapan; ayrıca her iki sayının da 5.dereceden\n",
    "# üssünü alan kodu yazınız...\n",
    "\n",
    "sayi_1= input(\"Birinci sayıyı girin: \")\n",
    "sayi_2=input(\"ikinci sayıyı girin: \")\n",
    "\n",
    "try:\n",
    "    if sayi_1.isdigit() and sayi_2.isdigit():\n",
    "        sayi_1=int(sayi_1)\n",
    "        sayi_2=int(sayi_2)\n",
    "\n",
    "        print(f\"{sayi_1}+{sayi_2} = {sayi_1+sayi_2}\")\n",
    "        print(f\"{sayi_1}-{sayi_2} = {sayi_1-sayi_2}\")\n",
    "        print(f\"{sayi_1}*{sayi_2} = {sayi_1*sayi_2}\")\n",
    "        print(f\"{sayi_1}/{sayi_2} = {sayi_1/sayi_2}\")\n",
    "        print(f\" sayının 5. dereceden üssü: {sayi_1**5} \")\n",
    "        print(f\" sayının 5. dereceden üssü: {sayi_2**5} \")\n",
    "    else:\n",
    "        print(\"Lütfen iki sayının da tamsayı olduğundan emin olun\")\n",
    "\n",
    "except Exception as e:\n",
    "    print(f\"Hata = {e}\")\n",
    "\n",
    "\n",
    "\n",
    "\n",
    "    "
   ]
  },
  {
   "cell_type": "code",
   "execution_count": 14,
   "id": "3faa1316-1675-4c3b-aed6-eee3f85e7fd7",
   "metadata": {},
   "outputs": [
    {
     "name": "stdout",
     "output_type": "stream",
     "text": [
      "Orijinal cümle = Orta Çağ Döneminden beri farklı diller konuşulmaktadır. Üzücü olan şudur kİ bugün yaşadığımız tüm sıkıntıların bir sebebi de dillerin birer birer ölmesidir.\n",
      "--------------------------------------------------\n",
      "İşlenmiş cümle = Orta Cag Doneminden beri farkli diller konusulmaktadir. Üzücü olan sudur kI bugün yasadigimiz tüm sikintilarin bir sebebi de dillerin birer birer olmesidir.\n"
     ]
    }
   ],
   "source": [
    "#(str işlemi): bir metin içerisindeki cümlede yer alan\n",
    "# Türkçe karakterleri İngilizce karşılığı ile değiştiren\n",
    "# kodu yazınız. (Örneğin, Cümlede ç harfi geçiyorsa c yazacak\n",
    "# Ç harfi geçiyorsa C yazacak)\n",
    "\n",
    "\n",
    "my_sentence = \"Orta Çağ Döneminden beri farklı diller konuşulmaktadır. Üzücü olan şudur kİ bugün yaşadığımız tüm sıkıntıların bir sebebi de dillerin birer birer ölmesidir.\"\n",
    "\n",
    "print(f\"Orijinal cümle = {my_sentence}\")\n",
    "print(\"-\"*50)\n",
    "\n",
    "#my_sentence= my_sentence.replace(\"ç\",\"c\").replace(\"Ç\",\"C\").replace(\"İ\",\"I\").replace(\"ğ\",\"g\").replace(\"ı\",\"i\").replace(\"ö\",\"o\").replace(\"u\",\"ü\").replace(\"Ö\",\"O\").replace(\"Ü\",\"U\").replace(\"Ş\",\"S\").replace(\"ş\",\"s\")\n",
    "#key value ile daha kısa yapımı\n",
    "turkish_to_english = {\"Ç\":\"C\",\"ğ\":\"g\",\"ö\":\"o\",\"ş\":\"s\",\"İ\":\"I\",\"ı\":\"i\"}  \n",
    "for turkish_character,english_character in turkish_to_english.items(): #.items() metodu, sözlükteki anahtar (Türkçe karakter) ve değer (İngilizce karşılığı) çiftlerini döndürü\n",
    "    my_sentence=my_sentence.replace(turkish_character,english_character)\n",
    "\n",
    "print(f\"İşlenmiş cümle = {my_sentence}\")\n",
    "\n"
   ]
  },
  {
   "cell_type": "code",
   "execution_count": 22,
   "id": "aaafc15f-c61f-46c2-83d5-3276c338b830",
   "metadata": {},
   "outputs": [
    {
     "name": "stdin",
     "output_type": "stream",
     "text": [
      "Lütfen tamsayıyı giriniz:  10\n"
     ]
    },
    {
     "name": "stdout",
     "output_type": "stream",
     "text": [
      "10 sayısının 3 adet böleni bulundu: \n",
      "1\n",
      "2\n",
      "5\n"
     ]
    }
   ],
   "source": [
    "# Girilen bir tamsayının kendisi haricinde tüm tam bölenlerini\n",
    "# bulan ve bunları bir listeye ekleyip; sonrasında for döngüsü ile\n",
    "# tek tek gösteren kodu yazınız. NOT: kaç adet tam böleni olduğu\n",
    "# bilgisini de yazdırınız\n",
    "\n",
    "sayi_1=int(input(\"Lütfen tamsayıyı giriniz: \"))\n",
    "sayi_list=[]\n",
    "sayac=0\n",
    "\n",
    "for i in range(1,sayi_1):\n",
    "    if sayi_1%i==0:\n",
    "        sayi_list.append(i)\n",
    "        sayac=sayac+1\n",
    "\n",
    "print(f\"{sayi_1} sayısının {sayac} adet böleni bulundu: \")\n",
    "for i in sayi_list:\n",
    "    print(i)\n",
    "\n",
    "\n"
   ]
  },
  {
   "cell_type": "code",
   "execution_count": null,
   "id": "988d6734-523a-4115-8f93-3b8811e9f336",
   "metadata": {},
   "outputs": [],
   "source": []
  }
 ],
 "metadata": {
  "kernelspec": {
   "display_name": "Python 3 (ipykernel)",
   "language": "python",
   "name": "python3"
  },
  "language_info": {
   "codemirror_mode": {
    "name": "ipython",
    "version": 3
   },
   "file_extension": ".py",
   "mimetype": "text/x-python",
   "name": "python",
   "nbconvert_exporter": "python",
   "pygments_lexer": "ipython3",
   "version": "3.12.4"
  }
 },
 "nbformat": 4,
 "nbformat_minor": 5
}
